{
 "cells": [
  {
   "cell_type": "code",
   "id": "initial_id",
   "metadata": {
    "collapsed": true,
    "ExecuteTime": {
     "end_time": "2025-05-22T06:07:07.582631Z",
     "start_time": "2025-05-22T06:07:06.499817Z"
    }
   },
   "source": [
    "!pip install google-adk -q\n",
    "!pip show google-adk"
   ],
   "outputs": [
    {
     "name": "stdout",
     "output_type": "stream",
     "text": [
      "Name: google-adk\r\n",
      "Version: 0.5.0\r\n",
      "Summary: Agent Development Kit\r\n",
      "Home-page: https://google.github.io/adk-docs/\r\n",
      "Author: \r\n",
      "Author-email: Google LLC <googleapis-packages@google.com>\r\n",
      "License: \r\n",
      "Location: /Users/kakao/PycharmProjects/ai-dev-kit/.venv/lib/python3.13/site-packages\r\n",
      "Requires: authlib, click, fastapi, google-api-python-client, google-cloud-aiplatform, google-cloud-secret-manager, google-cloud-speech, google-cloud-storage, google-genai, graphviz, mcp, opentelemetry-api, opentelemetry-exporter-gcp-trace, opentelemetry-sdk, pydantic, python-dotenv, PyYAML, sqlalchemy, tzlocal, uvicorn\r\n",
      "Required-by: \r\n"
     ]
    }
   ],
   "execution_count": 1
  },
  {
   "metadata": {
    "ExecuteTime": {
     "end_time": "2025-05-22T06:09:03.502403Z",
     "start_time": "2025-05-22T06:08:44.829896Z"
    }
   },
   "cell_type": "code",
   "source": "!adk run multi_tool_agent",
   "id": "92ace6fd9facb938",
   "outputs": [
    {
     "name": "stdout",
     "output_type": "stream",
     "text": [
      "Log setup complete: /var/folders/38/w5h56fgj6kz52y4gj0s_9vg40000gn/T/agents_log/agent.20250522_150846.log\r\n",
      "To access latest log: tail -F /var/folders/38/w5h56fgj6kz52y4gj0s_9vg40000gn/T/agents_log/agent.latest.log\r\n",
      "Running agent weather_time_agent, type exit to exit.\r\n",
      "[user]: ^C\r\n",
      "[user]: "
     ]
    }
   ],
   "execution_count": 5
  },
  {
   "metadata": {},
   "cell_type": "code",
   "outputs": [],
   "execution_count": null,
   "source": "",
   "id": "77fe63491b41aa64"
  }
 ],
 "metadata": {
  "kernelspec": {
   "display_name": "Python 3",
   "language": "python",
   "name": "python3"
  },
  "language_info": {
   "codemirror_mode": {
    "name": "ipython",
    "version": 2
   },
   "file_extension": ".py",
   "mimetype": "text/x-python",
   "name": "python",
   "nbconvert_exporter": "python",
   "pygments_lexer": "ipython2",
   "version": "2.7.6"
  }
 },
 "nbformat": 4,
 "nbformat_minor": 5
}
